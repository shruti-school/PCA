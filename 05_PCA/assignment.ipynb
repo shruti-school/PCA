{
 "cells": [
  {
   "cell_type": "markdown",
   "metadata": {
    "pycharm": {
     "name": "#%% md\n"
    }
   },
   "source": [
    "## PCA and Text Analysis\n",
    "\n",
    "This assignment involves processing real e-mails, some of which are scams. Some of these scam e-mails have some offensive content. I don't think anything is worse than R-rated, but I just want to warn you that if you start reading the e-mail text, you might read something offensive. If that's a problem, feel free to e-mail me and we can talk about it more or you can skip the assignment.  "
   ]
  },
  {
   "cell_type": "markdown",
   "metadata": {
    "pycharm": {
     "name": "#%% md\n"
    }
   },
   "source": [
    "### Q1. \n",
    "\n",
    "Open the `Phishing_Email.parquet` data. It is available at `https://data434.s3.us-east-2.amazonaws.com/Phishing_Email.parquet`, and you can download it directly using Pandas by providing that URL: `df = pd.read_parquet('https://data434.s3.us-east-2.amazonaws.com/Phishing_Email.parquet')`.\n",
    "\n",
    "We just want to look at the first step of cleaning text data, so you can get an idea of how it works. The `Email Text` variable contains the actual text of the email and the `Email Type` takes the value `Phishing Email` or `Safe Email`. We want to predict which emails are phishing emails from their contents. \n",
    "\n",
    "Use the `str.split()` method to break the `Phishing Email` values into **tokens**: The individual words or symbols that create text data like emails. Natural Language Processing is primarily about analyzing the frequency and co-occurrence of tokens. Print the results of your split and examine it.\n",
    "\n",
    "In words, how would you clean the tokens and use them to predict whether the email is a phishing scam or not? A short summary of the kinds of tasks you would do and how you would run a predictive algorithm is fine."
   ]
  },
  {
   "cell_type": "code",
   "execution_count": 2,
   "outputs": [
    {
     "data": {
      "text/plain": "0    [re, :, 6, ., 1100, ,, disc, :, uniformitarian...\n1    [the, other, side, of, *, galicismos, *, *, ga...\n2    [re, :, equistar, deal, tickets, are, you, sti...\n3    [Hello, I, am, your, hot, lil, horny, toy., I,...\n4    [software, at, incredibly, low, prices, (, 86,...\nName: Email Text, dtype: object"
     },
     "execution_count": 1,
     "metadata": {},
     "output_type": "execute_result"
    },
    {
     "data": {
      "text/plain": "0    [re, :, 6, ., 1100, ,, disc, :, uniformitarian...\n1    [the, other, side, of, *, galicismos, *, *, ga...\n2    [re, :, equistar, deal, tickets, are, you, sti...\n3    [Hello, I, am, your, hot, lil, horny, toy., I,...\n4    [software, at, incredibly, low, prices, (, 86,...\nName: Email Text, dtype: object"
     },
     "execution_count": 2,
     "metadata": {},
     "output_type": "execute_result"
    }
   ],
   "source": [
    "import numpy as np\n",
    "import pandas as pd\n",
    "import pickle\n",
    "from collections import Counter\n",
    "from multiprocessing.pool import Pool\n",
    "from sklearn.decomposition import PCA\n",
    "from sklearn.linear_model import LinearRegression\n",
    "from sklearn.model_selection import train_test_split\n",
    "from sklearn.metrics import r2_score\n",
    "import seaborn as sns\n",
    "import matplotlib.pyplot as plt\n",
    "\n",
    "\n",
    "df = pd.read_parquet('https://data434.s3.us-east-2.amazonaws.com/Phishing_Email.parquet')\n",
    "tokens = df['Email Text'].str.split()\n",
    "tokens.head()"
   ],
   "metadata": {
    "collapsed": false,
    "pycharm": {
     "name": "#%%\n"
    }
   }
  },
  {
   "cell_type": "markdown",
   "source": [
    "To predict phishing emails, the text would first be cleaned by converting it to lowercase, removing stop words, punctuation, symbols, and irrelevant numbers. The cleaned text would then be transformed into numerical features using methods like TF-IDF (Term Frequency-Inverse Document Frequency) or Bag of Words. A classification algorithm, such as Logistic Regression or Random Forest, would be trained on these features to distinguish phishing emails from safe ones. The model's performance would be evaluated using metrics like accuracy, precision, recall, and F1 score."
   ],
   "metadata": {
    "collapsed": false,
    "pycharm": {
     "name": "#%% md\n"
    }
   }
  },
  {
   "cell_type": "markdown",
   "source": [],
   "metadata": {
    "collapsed": false,
    "pycharm": {
     "name": "#%% md\n"
    }
   }
  },
  {
   "cell_type": "markdown",
   "metadata": {
    "pycharm": {
     "name": "#%% md\n"
    }
   },
   "source": [
    "### Q2. \n",
    "\n",
    "I aggregated all the emails into a single vector, and removed the punctuation and very common words (e.g. \"the\"). Run the below code chunk to open it, and use the Counter class to look at the most common words:"
   ]
  },
  {
   "cell_type": "code",
   "execution_count": 4,
   "metadata": {
    "pycharm": {
     "name": "#%%\n"
    }
   },
   "outputs": [
    {
     "data": {
      "text/plain": "<AxesSubplot:>"
     },
     "execution_count": 4,
     "metadata": {},
     "output_type": "execute_result"
    },
    {
     "data": {
      "text/plain": "<Figure size 432x288 with 1 Axes>",
      "image/png": "[encoded data removed]"
     },
     "metadata": {
      "needs_background": "light"
     },
     "output_type": "display_data"
    }
   ],
   "source": [
    "with open('all_tokens.pickle', 'rb') as file:\n",
    "    all_tokens = pickle.load(file)\n",
    "    \n",
    "from collections import Counter\n",
    "token_count = Counter(all_tokens)\n",
    "token_freq = token_count.most_common()\n",
    "\n",
    "counts = pd.DataFrame(token_freq,columns=['token','count'])\n",
    "counts['count'].hist(grid=False,bins=100)"
   ]
  },
  {
   "cell_type": "markdown",
   "metadata": {
    "pycharm": {
     "name": "#%% md\n"
    }
   },
   "source": [
    "Plot a histogram of the occurrences of tokens. What do you notice about the frequency of occurrence of different tokens? How does it look?"
   ]
  },
  {
   "cell_type": "markdown",
   "source": [
    "The histogram is very skewed and it looks like there is one token that is repeated many many times while others occur much less often in comparison."
   ],
   "metadata": {
    "collapsed": false,
    "pycharm": {
     "name": "#%% md\n"
    }
   }
  },
  {
   "cell_type": "markdown",
   "metadata": {
    "pycharm": {
     "name": "#%% md\n"
    }
   },
   "source": [
    "### Q3. \n",
    "\n",
    "Load `Phishing_clean.parquet`. This is the text from the e-mails broken into the most common 2,711 tokens and one-hot-encoded as features/covariates. So each row is an e-mail, the `Email Type` takes the value 1 if it's a scam and 0 otherwise, and every other column is a word or symbol that occurs in at least 15 e-mails.\n",
    "\n",
    "1. Perform an 80/20 train-test split of the data.\n",
    "2. Run a regression of $y$ on the one-hot-encoded emails. What is the $R^2$ on the test set? On the training set?\n",
    "3. What words have the largest coefficients in absolute value and most strongly influence predictions?"
   ]
  },
  {
   "cell_type": "code",
   "execution_count": 15,
   "outputs": [
    {
     "name": "stdout",
     "output_type": "stream",
     "text": [
      "Training R^2: 0.6945609197690708\n",
      "Testing R^2: -2.3356623999323873e+21\n"
     ]
    },
    {
     "data": {
      "text/plain": "           Token   Coefficient  Abs_Coefficient\n33          2001  1.501232e+13     1.501232e+13\n710         1997  1.017499e+13     1.017499e+13\n6           2002  7.511127e+12     7.511127e+12\n1584  demokritos  7.177256e+12     7.177256e+12\n1641         iit -7.177256e+12     7.177256e+12\n...          ...           ...              ...\n2053   syntactic -2.679825e-04     2.679825e-04\n1381         saw -2.593994e-04     2.593994e-04\n2416        asia -2.136230e-04     2.136230e-04\n2630   macintosh  6.103516e-05     6.103516e-05\n486    phonology  1.525879e-05     1.525879e-05\n\n[2711 rows x 3 columns]",
      "text/html": "<div>\n<style scoped>\n    .dataframe tbody tr th:only-of-type {\n        vertical-align: middle;\n    }\n\n    .dataframe tbody tr th {\n        vertical-align: top;\n    }\n\n    .dataframe thead th {\n        text-align: right;\n    }\n</style>\n<table border=\"1\" class=\"dataframe\">\n  <thead>\n    <tr style=\"text-align: right;\">\n      <th></th>\n      <th>Token</th>\n      <th>Coefficient</th>\n      <th>Abs_Coefficient</th>\n    </tr>\n  </thead>\n  <tbody>\n    <tr>\n      <th>33</th>\n      <td>2001</td>\n      <td>1.501232e+13</td>\n      <td>1.501232e+13</td>\n    </tr>\n    <tr>\n      <th>710</th>\n      <td>1997</td>\n      <td>1.017499e+13</td>\n      <td>1.017499e+13</td>\n    </tr>\n    <tr>\n      <th>6</th>\n      <td>2002</td>\n      <td>7.511127e+12</td>\n      <td>7.511127e+12</td>\n    </tr>\n    <tr>\n      <th>1584</th>\n      <td>demokritos</td>\n      <td>7.177256e+12</td>\n      <td>7.177256e+12</td>\n    </tr>\n    <tr>\n      <th>1641</th>\n      <td>iit</td>\n      <td>-7.177256e+12</td>\n      <td>7.177256e+12</td>\n    </tr>\n    <tr>\n      <th>...</th>\n      <td>...</td>\n      <td>...</td>\n      <td>...</td>\n    </tr>\n    <tr>\n      <th>2053</th>\n      <td>syntactic</td>\n      <td>-2.679825e-04</td>\n      <td>2.679825e-04</td>\n    </tr>\n    <tr>\n      <th>1381</th>\n      <td>saw</td>\n      <td>-2.593994e-04</td>\n      <td>2.593994e-04</td>\n    </tr>\n    <tr>\n      <th>2416</th>\n      <td>asia</td>\n      <td>-2.136230e-04</td>\n      <td>2.136230e-04</td>\n    </tr>\n    <tr>\n      <th>2630</th>\n      <td>macintosh</td>\n      <td>6.103516e-05</td>\n      <td>6.103516e-05</td>\n    </tr>\n    <tr>\n      <th>486</th>\n      <td>phonology</td>\n      <td>1.525879e-05</td>\n      <td>1.525879e-05</td>\n    </tr>\n  </tbody>\n</table>\n<p>2711 rows × 3 columns</p>\n</div>"
     },
     "execution_count": 13,
     "metadata": {},
     "output_type": "execute_result"
    },
    {
     "name": "stdout",
     "output_type": "stream",
     "text": [
      "Training R^2: 0.6945609197690708\n",
      "Testing R^2: -2.3356623999323873e+21\n"
     ]
    },
    {
     "data": {
      "text/plain": "           Token   Coefficient  Abs_Coefficient\n33          2001  1.501232e+13     1.501232e+13\n710         1997  1.017499e+13     1.017499e+13\n6           2002  7.511127e+12     7.511127e+12\n1584  demokritos  7.177256e+12     7.177256e+12\n1641         iit -7.177256e+12     7.177256e+12\n...          ...           ...              ...\n2053   syntactic -2.679825e-04     2.679825e-04\n1381         saw -2.593994e-04     2.593994e-04\n2416        asia -2.136230e-04     2.136230e-04\n2630   macintosh  6.103516e-05     6.103516e-05\n486    phonology  1.525879e-05     1.525879e-05\n\n[2711 rows x 3 columns]",
      "text/html": "<div>\n<style scoped>\n    .dataframe tbody tr th:only-of-type {\n        vertical-align: middle;\n    }\n\n    .dataframe tbody tr th {\n        vertical-align: top;\n    }\n\n    .dataframe thead th {\n        text-align: right;\n    }\n</style>\n<table border=\"1\" class=\"dataframe\">\n  <thead>\n    <tr style=\"text-align: right;\">\n      <th></th>\n      <th>Token</th>\n      <th>Coefficient</th>\n      <th>Abs_Coefficient</th>\n    </tr>\n  </thead>\n  <tbody>\n    <tr>\n      <th>33</th>\n      <td>2001</td>\n      <td>1.501232e+13</td>\n      <td>1.501232e+13</td>\n    </tr>\n    <tr>\n      <th>710</th>\n      <td>1997</td>\n      <td>1.017499e+13</td>\n      <td>1.017499e+13</td>\n    </tr>\n    <tr>\n      <th>6</th>\n      <td>2002</td>\n      <td>7.511127e+12</td>\n      <td>7.511127e+12</td>\n    </tr>\n    <tr>\n      <th>1584</th>\n      <td>demokritos</td>\n      <td>7.177256e+12</td>\n      <td>7.177256e+12</td>\n    </tr>\n    <tr>\n      <th>1641</th>\n      <td>iit</td>\n      <td>-7.177256e+12</td>\n      <td>7.177256e+12</td>\n    </tr>\n    <tr>\n      <th>...</th>\n      <td>...</td>\n      <td>...</td>\n      <td>...</td>\n    </tr>\n    <tr>\n      <th>2053</th>\n      <td>syntactic</td>\n      <td>-2.679825e-04</td>\n      <td>2.679825e-04</td>\n    </tr>\n    <tr>\n      <th>1381</th>\n      <td>saw</td>\n      <td>-2.593994e-04</td>\n      <td>2.593994e-04</td>\n    </tr>\n    <tr>\n      <th>2416</th>\n      <td>asia</td>\n      <td>-2.136230e-04</td>\n      <td>2.136230e-04</td>\n    </tr>\n    <tr>\n      <th>2630</th>\n      <td>macintosh</td>\n      <td>6.103516e-05</td>\n      <td>6.103516e-05</td>\n    </tr>\n    <tr>\n      <th>486</th>\n      <td>phonology</td>\n      <td>1.525879e-05</td>\n      <td>1.525879e-05</td>\n    </tr>\n  </tbody>\n</table>\n<p>2711 rows × 3 columns</p>\n</div>"
     },
     "execution_count": 14,
     "metadata": {},
     "output_type": "execute_result"
    },
    {
     "name": "stdout",
     "output_type": "stream",
     "text": [
      "Training R^2: 0.6945609197690708\n",
      "Testing R^2: -2.3356623999323873e+21\n"
     ]
    },
    {
     "data": {
      "text/plain": "           Token   Coefficient  Abs_Coefficient\n33          2001  1.501232e+13     1.501232e+13\n710         1997  1.017499e+13     1.017499e+13\n6           2002  7.511127e+12     7.511127e+12\n1584  demokritos  7.177256e+12     7.177256e+12\n1641         iit -7.177256e+12     7.177256e+12\n...          ...           ...              ...\n2053   syntactic -2.679825e-04     2.679825e-04\n1381         saw -2.593994e-04     2.593994e-04\n2416        asia -2.136230e-04     2.136230e-04\n2630   macintosh  6.103516e-05     6.103516e-05\n486    phonology  1.525879e-05     1.525879e-05\n\n[2711 rows x 3 columns]",
      "text/html": "<div>\n<style scoped>\n    .dataframe tbody tr th:only-of-type {\n        vertical-align: middle;\n    }\n\n    .dataframe tbody tr th {\n        vertical-align: top;\n    }\n\n    .dataframe thead th {\n        text-align: right;\n    }\n</style>\n<table border=\"1\" class=\"dataframe\">\n  <thead>\n    <tr style=\"text-align: right;\">\n      <th></th>\n      <th>Token</th>\n      <th>Coefficient</th>\n      <th>Abs_Coefficient</th>\n    </tr>\n  </thead>\n  <tbody>\n    <tr>\n      <th>33</th>\n      <td>2001</td>\n      <td>1.501232e+13</td>\n      <td>1.501232e+13</td>\n    </tr>\n    <tr>\n      <th>710</th>\n      <td>1997</td>\n      <td>1.017499e+13</td>\n      <td>1.017499e+13</td>\n    </tr>\n    <tr>\n      <th>6</th>\n      <td>2002</td>\n      <td>7.511127e+12</td>\n      <td>7.511127e+12</td>\n    </tr>\n    <tr>\n      <th>1584</th>\n      <td>demokritos</td>\n      <td>7.177256e+12</td>\n      <td>7.177256e+12</td>\n    </tr>\n    <tr>\n      <th>1641</th>\n      <td>iit</td>\n      <td>-7.177256e+12</td>\n      <td>7.177256e+12</td>\n    </tr>\n    <tr>\n      <th>...</th>\n      <td>...</td>\n      <td>...</td>\n      <td>...</td>\n    </tr>\n    <tr>\n      <th>2053</th>\n      <td>syntactic</td>\n      <td>-2.679825e-04</td>\n      <td>2.679825e-04</td>\n    </tr>\n    <tr>\n      <th>1381</th>\n      <td>saw</td>\n      <td>-2.593994e-04</td>\n      <td>2.593994e-04</td>\n    </tr>\n    <tr>\n      <th>2416</th>\n      <td>asia</td>\n      <td>-2.136230e-04</td>\n      <td>2.136230e-04</td>\n    </tr>\n    <tr>\n      <th>2630</th>\n      <td>macintosh</td>\n      <td>6.103516e-05</td>\n      <td>6.103516e-05</td>\n    </tr>\n    <tr>\n      <th>486</th>\n      <td>phonology</td>\n      <td>1.525879e-05</td>\n      <td>1.525879e-05</td>\n    </tr>\n  </tbody>\n</table>\n<p>2711 rows × 3 columns</p>\n</div>"
     },
     "execution_count": 15,
     "metadata": {},
     "output_type": "execute_result"
    }
   ],
   "source": [
    "from sklearn.model_selection import train_test_split\n",
    "from sklearn.linear_model import LinearRegression\n",
    "from sklearn.metrics import r2_score\n",
    "\n",
    "email_data = pd.read_parquet('Phishing_clean.parquet')\n",
    "\n",
    "labels = email_data['Email Type']\n",
    "features = email_data.drop(columns=['Email Type'])\n",
    "\n",
    "X_train_split, X_test_split, y_train_split, y_test_split = train_test_split(\n",
    "    features, labels, test_size=0.2, random_state=125\n",
    ")\n",
    "\n",
    "regression_model = LinearRegression(fit_intercept=False)\n",
    "regression_model.fit(X_train_split, y_train_split)\n",
    "\n",
    "train_predictions = regression_model.predict(X_train_split)\n",
    "test_predictions = regression_model.predict(X_test_split)\n",
    "\n",
    "print('Training R^2:', r2_score(y_train_split, train_predictions))\n",
    "print('Testing R^2:', r2_score(y_test_split, test_predictions))\n",
    "\n",
    "coeff_data = pd.DataFrame({\n",
    "    'Token': regression_model.feature_names_in_,\n",
    "    'Coefficient': regression_model.coef_\n",
    "})\n",
    "coeff_data['Abs_Coefficient'] = coeff_data['Coefficient'].abs()\n",
    "\n",
    "sorted_coeff_data = coeff_data.sort_values(by='Abs_Coefficient', ascending=False)\n",
    "sorted_coeff_data\n"
   ],
   "metadata": {
    "collapsed": false,
    "pycharm": {
     "name": "#%%\n"
    }
   }
  },
  {
   "cell_type": "markdown",
   "metadata": {
    "pycharm": {
     "name": "#%% md\n"
    }
   },
   "source": [
    "### Q4. \n",
    "\n",
    "Take the matrix of one-hot-encoded tokens (the data, less the outcome variable, `Email Type`) and perform a principal components analysis decomposition with two components. Plot the first two principal components in a scatter plot, and hue the points by whether they are a phishing scam or not. Do you notice any patterns?"
   ]
  },
  {
   "cell_type": "code",
   "execution_count": 16,
   "outputs": [
    {
     "data": {
      "text/plain": "<AxesSubplot:>"
     },
     "execution_count": 16,
     "metadata": {},
     "output_type": "execute_result"
    },
    {
     "data": {
      "text/plain": "<Figure size 432x288 with 1 Axes>",
      "image/png": "[encoded data removed]"
     },
     "metadata": {
      "needs_background": "light"
     },
     "output_type": "display_data"
    }
   ],
   "source": [
    "reduction = PCA(n_components=2).fit(X_train_split)\n",
    "Z_train = reduction.transform(X_train_split)\n",
    "Z_test = reduction.transform(X_test_split)\n",
    "sns.scatterplot(x=Z_test[:,0],y=Z_test[:,1],hue=y_test_split)"
   ],
   "metadata": {
    "collapsed": false,
    "pycharm": {
     "name": "#%%\n"
    }
   }
  },
  {
   "cell_type": "markdown",
   "source": [
    "The scams seem to have a higher PCA2 and a lower PCA1"
   ],
   "metadata": {
    "collapsed": false,
    "pycharm": {
     "name": "#%% md\n"
    }
   }
  },
  {
   "cell_type": "markdown",
   "metadata": {
    "pycharm": {
     "name": "#%% md\n"
    }
   },
   "source": [
    "### Q5.\n",
    "\n",
    "Run a linear regression of $y$ on the first 2,610 principal components of $X$. What is the $R^2$ on the training and test sets? (I used cross validation to determine that 2,610 was approximately optimal, but not all 2,711 components.)\n",
    "\n",
    "How does this performance compare to the linear regression?"
   ]
  },
  {
   "cell_type": "code",
   "execution_count": 18,
   "outputs": [
    {
     "name": "stdout",
     "output_type": "stream",
     "text": [
      "Train r2:  0.6928975360963756\n",
      "Test r2:  0.587390597321719\n",
      "Train r2:  0.6928975360963756\n",
      "Test r2:  0.587390597321719\n"
     ]
    }
   ],
   "source": [
    "reduction = PCA(n_components=2610).fit(X_train_split)\n",
    "Z_train = reduction.transform(X_train_split)\n",
    "Z_test = reduction.transform(X_test_split)\n",
    "\n",
    "lm_k = LinearRegression().fit(Z_train,y_train_split)\n",
    "y_hat_test = lm_k.predict(Z_test)\n",
    "y_hat_train = lm_k.predict(Z_train)\n",
    "\n",
    "print('Train r2: ', r2_score(y_hat_train,y_train_split))\n",
    "print('Test r2: ', r2_score(y_hat_test,y_test_split))"
   ],
   "metadata": {
    "collapsed": false,
    "pycharm": {
     "name": "#%%\n"
    }
   }
  },
  {
   "cell_type": "markdown",
   "source": [
    "This performs a lot better than the original linear regression because the R^2 values of the test and train are closer together and the R^2 values from earlier did not tell us much or make much sense."
   ],
   "metadata": {
    "collapsed": false,
    "pycharm": {
     "name": "#%% md\n"
    }
   }
  },
  {
   "cell_type": "markdown",
   "metadata": {
    "pycharm": {
     "name": "#%% md\n"
    }
   },
   "source": [
    "### Q6.\n",
    "\n",
    "Explain briefly in your own words what the advantage is in using the principal components to run this high-dimensional regression, rather than the original data."
   ]
  },
  {
   "cell_type": "markdown",
   "source": [
    "PCA is helpful because it reduces the dimensionality of the data so that we can retain more information while also stabalizing the model that we use. It also reduces overfitting since the data was very dimensional and has a lot of features."
   ],
   "metadata": {
    "collapsed": false,
    "pycharm": {
     "name": "#%% md\n"
    }
   }
  },
  {
   "cell_type": "markdown",
   "source": [],
   "metadata": {
    "collapsed": false,
    "pycharm": {
     "name": "#%% md\n"
    }
   }
  }
 ],
 "metadata": {
  "kernelspec": {
   "display_name": ".txt",
   "language": "python",
   "name": "python3"
  },
  "language_info": {
   "codemirror_mode": {
    "name": "ipython",
    "version": 3
   },
   "file_extension": ".py",
   "mimetype": "text/x-python",
   "name": "python",
   "nbconvert_exporter": "python",
   "pygments_lexer": "ipython3",
   "version": "3.10.12"
  }
 },
 "nbformat": 4,
 "nbformat_minor": 2
}